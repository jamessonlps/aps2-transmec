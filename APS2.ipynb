{
 "cells": [
  {
   "cell_type": "markdown",
   "id": "d2af461f",
   "metadata": {},
   "source": [
    "# APS 2 - Transferência de Calor e Mecânica dos Sólidos"
   ]
  },
  {
   "cell_type": "markdown",
   "id": "faf3743f",
   "metadata": {},
   "source": [
    "## Enunciado\n",
    "\n",
    "Considere uma aleta de seção transversal circular e constante, com temperatura fixa na base e exposta ao ambiente em todas as outras superfícies. Podemos esboçar as entradas e saídas de energia em um volume de controle definido ao redor de uma seção como indica a Fig.1.\n",
    "\n",
    "<img src=\"./enunciado.jpeg\" />\n",
    "\n",
    "- $q_x$ taxa de transferência de calor por condução em $x$.\n",
    "- $q_{x + dx}$ taxa de transferência de calor por condução em $x + dx$.\n",
    "- $dq_{conv}$ taxa de transferência de calor por convecção através da área superficial do elemento diferencial.\n",
    "\n",
    "Substituindo as equações de taxa $q_x$, $q_{x + dx}$ e $dq_{conv}$ podemos obter a forma geral da equação da energia para uma \n",
    "superfície estendida, em regime transiente como: \n",
    "\n",
    "<img src=\"./eq.jpeg\">"
   ]
  },
  {
   "cell_type": "markdown",
   "id": "863fa64a",
   "metadata": {},
   "source": [
    "## Roteiro\n",
    "\n",
    "- Aplique os conceitos do método das diferenças finitas na equação diferencial do problema para definir uma equação de diferença algébrica associada aos nós da aleta. Considere para a segunda derivada da temperatura no espaço uma equação de diferença finita centrada e para a primeira derivada no tempo da temperatura uma equação de diferença progressiva. Apresente o desenvolvimento das equações.\n",
    "\n",
    "- Apresente um gráfico ($Temperatura \\times posição$) após obter o regime permanente. Use uma tolerância de $tol = 1 \\cdot10^{-10}$. Considere que a aleta, de comprimento $L = 300mm$ , densidade de $2700 kg/m^3$ , condutividade térmica de $180 W/(mK)$ e calor específico $896 J/(kg K)$, tem a temperatura especificada na extremidade de $T(L) = 25 °C$. A aleta está em contato com uma base a $𝑇_b = 100℃$ em um ambiente a $𝑇_{\\infty} = 50 °C$ e $h = 50W/m^2K$. Para a condição de estabilidade do procedimento numérico use $\\Delta t \\leq \\frac{\\Delta x^2}{\\alpha \\cdot \\left(\\frac{h P \\Delta x^2}{k A_{tr}} + 2 \\right) }$.\n",
    "\n",
    "- Para validar os resultados obtidos com o software desenvolvido, apresente um gráfico ($Temperatura \\times posição$) para o comportamento analítico da temperatura na aleta usando as mesmas condições definidas no item anterior."
   ]
  },
  {
   "cell_type": "markdown",
   "id": "f7f5dadc",
   "metadata": {},
   "source": [
    "### Bibliotecas necessárias"
   ]
  },
  {
   "cell_type": "code",
   "execution_count": 13,
   "id": "98aaa5b8",
   "metadata": {},
   "outputs": [],
   "source": [
    "import numpy as np\n",
    "from math import pi\n",
    "import matplotlib.pyplot as plt"
   ]
  },
  {
   "cell_type": "markdown",
   "id": "7e870df9",
   "metadata": {},
   "source": [
    "### Parâmetros e constantes iniciais fornecidas"
   ]
  },
  {
   "cell_type": "code",
   "execution_count": 14,
   "id": "5b8cc011",
   "metadata": {},
   "outputs": [],
   "source": [
    "# Tolerância\n",
    "tol = 1e-10\n",
    "\n",
    "# Comprimento da aleta (m)\n",
    "L = 0.3\n",
    "\n",
    "# Densidade (kg / m^3)\n",
    "dens = 2700\n",
    "\n",
    "# Condutividade térmica (W/m.K)\n",
    "k = 180\n",
    "\n",
    "# Calor específico (J/kg.K)\n",
    "c = 896\n",
    "\n",
    "# Temperatura na extremidade (K)\n",
    "T_L = 25 + 273\n",
    "\n",
    "# Temperatura da base (K)\n",
    "T_b = 100 + 273\n",
    "\n",
    "# Temperatura do ambiente (K)\n",
    "T_amb = 50 + 273\n",
    "\n",
    "# Constante de convecção (W / K.m^2)\n",
    "h = 50\n",
    "\n",
    "# Difusividade\n",
    "alpha = k / (dens * c)"
   ]
  },
  {
   "cell_type": "markdown",
   "id": "dc76ecaa",
   "metadata": {},
   "source": [
    "### Parâmetros e constantes definidos para um caso"
   ]
  },
  {
   "cell_type": "code",
   "execution_count": 15,
   "id": "e7963641",
   "metadata": {},
   "outputs": [],
   "source": [
    "# Raio da aleta (m)\n",
    "r = 3e-3\n",
    "\n",
    "# Delta x (0.1 mm)\n",
    "dx = 1e-3\n",
    "\n",
    "# Tempo total (5 min)\n",
    "t_total = 10 * 60"
   ]
  },
  {
   "cell_type": "markdown",
   "id": "05525bac",
   "metadata": {},
   "source": [
    "#### Valor máximo para $\\Delta t$"
   ]
  },
  {
   "cell_type": "code",
   "execution_count": 16,
   "id": "98f155e2",
   "metadata": {},
   "outputs": [
    {
     "name": "stdout",
     "output_type": "stream",
     "text": [
      "Para condição de estabilidade: dt < 0.006719377835385612\n"
     ]
    }
   ],
   "source": [
    "# Área transversal\n",
    "A_tr = pi * (r**2)\n",
    "\n",
    "# Perímetro\n",
    "P = 2 * pi * r\n",
    "\n",
    "dt = (dx**2) / (alpha * (2 + (h*P*(dx**2)) / (k * A_tr)))\n",
    "# dt = 0.01\n",
    "print(f\"Para condição de estabilidade: dt < {dt}\")"
   ]
  },
  {
   "cell_type": "markdown",
   "id": "6ff2dff9",
   "metadata": {},
   "source": [
    "### Começando a brincadeira"
   ]
  },
  {
   "cell_type": "code",
   "execution_count": 22,
   "id": "1ed111d2",
   "metadata": {},
   "outputs": [],
   "source": [
    "time_list = np.arange(0, t_total + dt, dt)\n",
    "lgth_list = np.arange(0, L + dx, dx)\n",
    "\n",
    "# Número de nós\n",
    "nn = int(L/dx) + 1\n",
    "\n",
    "# Número de passos no tempo\n",
    "steps = int(t_total/dt) + 1\n",
    "\n",
    "# Matriz de temperaturas\n",
    "temp_list = np.zeros((steps, nn))\n",
    "# temp_list_aux = np.zeros((steps, nn))\n",
    "\n",
    "temp_list[:, 0] = T_b\n",
    "temp_list[:, 1:nn-2] = T_b\n",
    "temp_list[:, nn-1] = T_L"
   ]
  },
  {
   "cell_type": "code",
   "execution_count": 23,
   "id": "ec990f5b",
   "metadata": {},
   "outputs": [],
   "source": [
    "\n",
    "for t in range(0, steps-1):\n",
    "    for i in range(1, len(lgth_list) - 1):\n",
    "        coef_1 = (temp_list[t, i + 1] - (2 * temp_list[t, i]) + temp_list[t, i - 1]) / (dx**2)\n",
    "        coef_2 = (h * P * (temp_list[t, i] - T_amb)) / (k * A_tr)\n",
    "        temp_list[t+1, i] = temp_list[t, i] + alpha * dt * (coef_1 - coef_2)\n",
    "        \n",
    "#         diff = abs(temp_list[t+1, i] - temp_list[t, i])\n",
    "#         if diff <= tol:\n",
    "#             print('Ponto de convergência', t, i)\n",
    "#             break\n"
   ]
  },
  {
   "cell_type": "code",
   "execution_count": 24,
   "id": "af2966d4",
   "metadata": {
    "scrolled": false
   },
   "outputs": [
    {
     "data": {
      "image/png": "[encoded data removed]",
      "text/plain": [
       "<Figure size 1080x576 with 1 Axes>"
      ]
     },
     "metadata": {
      "needs_background": "light"
     },
     "output_type": "display_data"
    }
   ],
   "source": [
    "plt.figure(figsize=(15, 8))\n",
    "plt.title(\"Distribuição da temperatura no regime permanente\")\n",
    "plt.plot(lgth_list * 10, temp_list[-1, :] - 273, 'g')\n",
    "plt.xlabel(\"Comprimento [cm]\")\n",
    "plt.ylabel(\"Temperatura [°C]\")\n",
    "plt.grid()\n",
    "plt.show()"
   ]
  },
  {
   "cell_type": "code",
   "execution_count": 25,
   "id": "47008e74",
   "metadata": {},
   "outputs": [
    {
     "data": {
      "text/plain": [
       "89294"
      ]
     },
     "execution_count": 25,
     "metadata": {},
     "output_type": "execute_result"
    }
   ],
   "source": [
    "steps"
   ]
  },
  {
   "cell_type": "code",
   "execution_count": 26,
   "id": "0152bb99",
   "metadata": {},
   "outputs": [
    {
     "data": {
      "text/plain": [
       "3.1731204324618114e-11"
      ]
     },
     "execution_count": 26,
     "metadata": {},
     "output_type": "execute_result"
    }
   ],
   "source": [
    "diff = abs((temp_list[-1, 10] - temp_list[-2, 10]) / temp_list[-2, 10])\n",
    "diff"
   ]
  },
  {
   "cell_type": "code",
   "execution_count": null,
   "id": "8ea455c3",
   "metadata": {},
   "outputs": [],
   "source": []
  }
 ],
 "metadata": {
  "kernelspec": {
   "display_name": "Python 3",
   "language": "python",
   "name": "python3"
  },
  "language_info": {
   "codemirror_mode": {
    "name": "ipython",
    "version": 3
   },
   "file_extension": ".py",
   "mimetype": "text/x-python",
   "name": "python",
   "nbconvert_exporter": "python",
   "pygments_lexer": "ipython3",
   "version": "3.8.8"
  }
 },
 "nbformat": 4,
 "nbformat_minor": 5
}
