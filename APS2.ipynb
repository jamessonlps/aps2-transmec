{
 "cells": [
  {
   "cell_type": "markdown",
   "id": "0ac28f94",
   "metadata": {},
   "source": [
    "# APS 2 - Transferência de Calor e Mecânica dos Sólidos"
   ]
  },
  {
   "cell_type": "markdown",
   "id": "4ca05487",
   "metadata": {},
   "source": [
    "Considere uma aleta de seção transversal circular e constante, com temperatura fixa na base e exposta ao ambiente em todas as outras superfícies. Podemos esboçar as entradas e saídas de energia em um volume de controle definido ao redor de uma seção como indica a Fig.1.\n",
    "\n",
    "<img src=\"./enunciado.jpeg\" />\n",
    "\n",
    "- $q_x$ taxa de transferência de calor por condução em $x$.\n",
    "- $q_{x + dx}$ taxa de transferência de calor por condução em $x + dx$.\n",
    "- $dq_{conv}$ taxa de transferência de calor por convecção através da área superficial do elemento diferencial.\n",
    "\n",
    "Substituindo as equações de taxa $q_x$, $q_{x + dx}$ e $dq_{conv}$ podemos obter a forma geral da equação da energia para uma \n",
    "superfície estendida, em regime transiente como: \n",
    "\n",
    "<img src=\"./eq.jpeg\">"
   ]
  },
  {
   "cell_type": "markdown",
   "id": "550a2514",
   "metadata": {},
   "source": [
    "## Roteiro\n",
    "\n",
    "1. Aplique os conceitos do método das diferenças finitas na equação diferencial do problema para definir uma equação de diferença algébrica associada aos nós da aleta. Considere para a segunda derivada da temperatura no espaço uma equação de diferença finita centrada e para a primeira derivada no tempo da temperatura uma equação de diferença progressiva. Apresente o desenvolvimento das equações.\n",
    "\n",
    "2. Apresente um gráfico (𝑇𝑒𝑚𝑝𝑒𝑟𝑎𝑡𝑢𝑟𝑎 × 𝑝𝑜𝑠𝑖çã𝑜) após obter o regime permanente. Use uma tolerância de $tol = 1 \\cdot10^{-10}$. Considere que a aleta, de comprimento $L = 300mm$ , densidade de $2700 kg/m^3$ , condutividade térmica de $180 W/(mK)$ e calor específico $896 J/(kg K)$, tem a temperatura especificada na extremidade de $T(L) = 25 °C$. A aleta está em contato com uma base a $𝑇_b = 100℃$ em um ambiente a $𝑇_{\\infty} = 50 °C$ e $h = 50W/m^2K$. Para a condição de estabilidade do procedimento numérico use $\\Delta t \\leq \\frac{\\Delta x^2}{\\alpha \\cdot \\left(\\frac{h P \\Delta x^2}{k A_{tr}} + 2 \\right) }$.\n",
    "\n",
    "3. Para validar os resultados obtidos com o software desenvolvido, apresente um gráfico ($Temperatura \\times posição$) para o comportamento analítico da temperatura na aleta usando as mesmas condições definidas no item anterior."
   ]
  },
  {
   "cell_type": "code",
   "execution_count": null,
   "id": "16465cb1",
   "metadata": {},
   "outputs": [],
   "source": []
  }
 ],
 "metadata": {
  "kernelspec": {
   "display_name": "Python 3",
   "language": "python",
   "name": "python3"
  },
  "language_info": {
   "codemirror_mode": {
    "name": "ipython",
    "version": 3
   },
   "file_extension": ".py",
   "mimetype": "text/x-python",
   "name": "python",
   "nbconvert_exporter": "python",
   "pygments_lexer": "ipython3",
   "version": "3.8.8"
  }
 },
 "nbformat": 4,
 "nbformat_minor": 5
}
