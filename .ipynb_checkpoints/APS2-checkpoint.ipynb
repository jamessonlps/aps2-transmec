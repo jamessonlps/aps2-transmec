{
 "cells": [
  {
   "cell_type": "markdown",
   "id": "8d527f5b",
   "metadata": {},
   "source": [
    "# APS 2 - Transferência de Calor e Mecânica dos Sólidos\n",
    "\n",
    "\n",
    "## Alunos\n",
    "Guilherme Rosada\n",
    "\n",
    "Ivan de Alcântara Barbosa Barros\n",
    "\n",
    "Jamesson Leandro Paiva Santos\n",
    "\n",
    "___"
   ]
  },
  {
   "cell_type": "markdown",
   "id": "f465073e",
   "metadata": {},
   "source": [
    "## Enunciado\n",
    "\n",
    "Considere uma aleta de seção transversal circular e constante, com temperatura fixa na base e exposta ao ambiente em todas as outras superfícies. Podemos esboçar as entradas e saídas de energia em um volume de controle definido ao redor de uma seção como indica a Fig.1.\n",
    "\n",
    "<img src=\"./enunciado.jpeg\" />\n",
    "\n",
    "- $q_x$ taxa de transferência de calor por condução em $x$.\n",
    "- $q_{x + dx}$ taxa de transferência de calor por condução em $x + dx$.\n",
    "- $dq_{conv}$ taxa de transferência de calor por convecção através da área superficial do elemento diferencial.\n",
    "\n",
    "Substituindo as equações de taxa $q_x$, $q_{x + dx}$ e $dq_{conv}$ podemos obter a forma geral da equação da energia para uma \n",
    "superfície estendida, em regime transiente como: \n",
    "\n",
    "<img src=\"./eq.jpeg\">"
   ]
  },
  {
   "cell_type": "markdown",
   "id": "52d06892",
   "metadata": {},
   "source": [
    "## Roteiro\n",
    "\n",
    "- Aplique os conceitos do método das diferenças finitas na equação diferencial do problema para definir uma equação de diferença algébrica associada aos nós da aleta. Considere para a segunda derivada da temperatura no espaço uma equação de diferença finita centrada e para a primeira derivada no tempo da temperatura uma equação de diferença progressiva. Apresente o desenvolvimento das equações.\n",
    "\n",
    "- Apresente um gráfico ($Temperatura \\times posição$) após obter o regime permanente. Use uma tolerância de $tol = 1 \\cdot10^{-10}$. Considere que a aleta, de comprimento $L = 300mm$ , densidade de $2700 kg/m^3$ , condutividade térmica de $180 W/(mK)$ e calor específico $896 J/(kg K)$, tem a temperatura especificada na extremidade de $T(L) = 25 °C$. A aleta está em contato com uma base a $𝑇_b = 100℃$ em um ambiente a $𝑇_{\\infty} = 50 °C$ e $h = 50W/m^2K$. Para a condição de estabilidade do procedimento numérico use $\\Delta t \\leq \\frac{\\Delta x^2}{\\alpha \\cdot \\left(\\frac{h P \\Delta x^2}{k A_{tr}} + 2 \\right) }$.\n",
    "\n",
    "- Para validar os resultados obtidos com o software desenvolvido, apresente um gráfico ($Temperatura \\times posição$) para o comportamento analítico da temperatura na aleta usando as mesmas condições definidas no item anterior."
   ]
  },
  {
   "cell_type": "markdown",
   "id": "393f2c4d",
   "metadata": {},
   "source": [
    "### Bibliotecas necessárias"
   ]
  },
  {
   "cell_type": "code",
   "execution_count": 1,
   "id": "d3ac4bb9",
   "metadata": {},
   "outputs": [],
   "source": [
    "import numpy as np\n",
    "from math import *\n",
    "import matplotlib.pyplot as plt"
   ]
  },
  {
   "cell_type": "markdown",
   "id": "d120c823",
   "metadata": {},
   "source": [
    "### Parâmetros e constantes iniciais fornecidas"
   ]
  },
  {
   "cell_type": "code",
   "execution_count": 2,
   "id": "e9db61a1",
   "metadata": {},
   "outputs": [],
   "source": [
    "# Tolerância\n",
    "tol = 1e-10\n",
    "\n",
    "# Comprimento da aleta (m)\n",
    "L = 0.3\n",
    "\n",
    "# Densidade (kg / m^3)\n",
    "dens = 2700\n",
    "\n",
    "# Condutividade térmica (W/m.K)\n",
    "k = 180\n",
    "\n",
    "# Calor específico (J/kg.K)\n",
    "c = 896\n",
    "\n",
    "# Temperatura na extremidade (K)\n",
    "T_L = 25 + 273\n",
    "\n",
    "# Temperatura da base (K)\n",
    "T_b = 100 + 273\n",
    "\n",
    "# Temperatura do ambiente (K)\n",
    "T_amb = 50 + 273\n",
    "\n",
    "# Constante de convecção (W / K.m^2)\n",
    "h = 50\n"
   ]
  },
  {
   "cell_type": "markdown",
   "id": "3db74672",
   "metadata": {},
   "source": [
    "### Parâmetros e constantes definidos para um caso"
   ]
  },
  {
   "cell_type": "code",
   "execution_count": 3,
   "id": "f999b1f7",
   "metadata": {},
   "outputs": [],
   "source": [
    "# Raio da aleta (m)\n",
    "r = 3e-3\n",
    "\n",
    "# Delta x (0.1 mm)\n",
    "dx = 1e-3\n",
    "\n",
    "# Tempo total\n",
    "t_total = 10 * 60"
   ]
  },
  {
   "cell_type": "markdown",
   "id": "4df7c011",
   "metadata": {},
   "source": [
    "### Solução numérica"
   ]
  },
  {
   "cell_type": "markdown",
   "id": "598ab678",
   "metadata": {},
   "source": [
    "Para a aproximação da 2º derivada da temperatura no espaço com diferença finita centrada, temos:\n",
    "\n",
    "$$ \\frac{d^2 T}{dx^2} = \\frac{T_{i+1}^l - 2 \\cdot T_{i}^l + T_{i-1}^l}{\\Delta x^2} $$\n",
    "\n",
    "E para a aproximação da 1º derivada da temperatura no tempo com diferença progressiva, temos:\n",
    "\n",
    "$$ \\frac{dT}{dt} = \\frac{T_i^{l+1} - T_i^l}{\\Delta t} $$\n",
    "\n",
    "A partir da equação anterior que expressa a forma geral da equação da energia para uma superfície estendida e das duas expressões de aproximações acima, temos:\n",
    "\n",
    "$$ \\frac{T_{i+1}^l - 2 \\cdot T_{i}^l + T_{i-1}^l}{\\Delta x^2} - \\frac{h \\cdot P}{k \\cdot A_{tr}} \\cdot \\left( T_{i}^l - T_{\\infty} \\right) = \\frac{1}{\\alpha} \\cdot \\frac{T_i^{l+1} - T_i^l}{\\Delta t}  $$\n",
    "\n",
    "Isolando o termo $T_i^{l+1}$, chegamos a:\n",
    "\n",
    "$$ T_i^{l+1} = T_i^{l} + \\alpha \\cdot \\Delta t \\cdot \\left[ \\frac{T_{i+1}^l - 2 \\cdot T_{i}^l + T_{i-1}^l}{\\Delta x^2} - \\frac{h \\cdot P}{k \\cdot A_{tr}} \\cdot \\left( T_{i}^l - T_{\\infty} \\right) \\right] $$\n",
    "\n",
    "Com a esquação obtida acima, efetuamos o cálculo numérico levando em conta o valor escolhido para $\\Delta x$ e o valor calculado para $\\Delta t$ a partir da condição de estabilidade proposta no enunciado."
   ]
  },
  {
   "cell_type": "code",
   "execution_count": 4,
   "id": "a53a7b7d",
   "metadata": {},
   "outputs": [],
   "source": [
    "def numeric_solution(dens, c, k, h, T_amb, T_b, r, L, dx, t_total):\n",
    "    \"\"\"\n",
    "        Aplica método numérico para o caso da aleta com seção uniforme\n",
    "\n",
    "        dens    = densidade\n",
    "        c       = calor específico\n",
    "        k       = condutividade térmica\n",
    "        h       = coeficiente de convecção\n",
    "        T_amb   = temperatura do fluido\n",
    "        T_b     = temperatura da base\n",
    "        r       = raio\n",
    "        L       = comprimento\n",
    "        dx      = pedaço de comprimento\n",
    "        t_total = tempo total da simulação\n",
    "    \"\"\"\n",
    "    # Difusividade\n",
    "    alpha = k / (dens * c)\n",
    "    \n",
    "    # Área transversal\n",
    "    A_tr = pi * (r**2)\n",
    "\n",
    "    # Perímetro\n",
    "    P = 2 * pi * r\n",
    "\n",
    "    # Passo temporal para condição de estabilidade\n",
    "    dt = (dx**2) / (alpha * (2 + (h*P*(dx**2)) / (k * A_tr)))\n",
    "    \n",
    "    # Lista com nós\n",
    "    length_list = np.arange(0, L + dx, dx)\n",
    "    \n",
    "    # Número de nós\n",
    "    nn = int(L/dx) + 1\n",
    "\n",
    "    # Número de passos no tempo\n",
    "    steps = int(t_total/dt) + 1\n",
    "\n",
    "    # Matriz de temperaturas\n",
    "    temp_list = np.zeros((steps, nn))\n",
    "\n",
    "    # Condições iniciais\n",
    "    temp_list[:, 0] = T_b\n",
    "    temp_list[:, 1:nn-2] = T_amb\n",
    "    temp_list[:, nn-1] = T_L\n",
    "    \n",
    "    # Looping do cálculo numérico\n",
    "    for t in range(0, steps-1):\n",
    "        for i in range(1, len(length_list) - 1):\n",
    "            coef_1 = (temp_list[t, i + 1] - (2 * temp_list[t, i]) + temp_list[t, i - 1]) / (dx**2)\n",
    "            coef_2 = (h * P * (temp_list[t, i] - T_amb)) / (k * A_tr)\n",
    "            temp_list[t+1, i] = temp_list[t, i] + alpha * dt * (coef_1 - coef_2)\n",
    "            \n",
    "    plt.subplot(121)\n",
    "    plt.title(\"Distribuição de temperatura  - caso numérico\")\n",
    "    plt.plot(length_list * 10, temp_list[-1, :] - 273, 'g')\n",
    "    plt.xlabel(\"Comprimento [cm]\")\n",
    "    plt.ylabel(\"Temperatura [°C]\")\n",
    "    plt.grid()\n",
    "    \n",
    "    diff = abs((temp_list[-1, 10] - temp_list[-2, 10]) / temp_list[-2, 10])\n",
    "    print(f\"Valor obtido: {diff} < {tol}\")\n"
   ]
  },
  {
   "cell_type": "markdown",
   "id": "8cffec0e",
   "metadata": {},
   "source": [
    "### Solução analítica\n",
    "\n",
    "O desenvolvimento da solução analítica para o caso da aleta com seção uniforme foi feita com a aplicação de duas condições de contorno:\n",
    "\n",
    "1. Temperatura na base da aleta ($x = 0$): $\\theta_b = \\theta(0) = T_b - T_{\\infty}$\n",
    "\n",
    "2. Temperatura fixa na extremidade da aleta ($x = L$): $\\theta(L) = \\theta_L$\n",
    "\n",
    "Para esse caso, temos que:\n",
    "\n",
    "$$ \\frac{\\theta}{\\theta_b} = \\frac{\\left( \\frac{\\theta_L}{\\theta_b} \\right) \\cdot senh(mx) + senh \\left[ m(L - x) \\right] }{senh(mL)} $$\n",
    "\n",
    "em que $m^2 = \\frac{h \\cdot P}{k \\cdot A_{tr}}$"
   ]
  },
  {
   "cell_type": "code",
   "execution_count": 5,
   "id": "fdec8c18",
   "metadata": {},
   "outputs": [],
   "source": [
    "def analitic_solution(d, c, k, h, T_amb, T_b, r, L, dx, t_total):\n",
    "    \"\"\"\n",
    "        Aplica método analítico para o caso da aleta, com condição\n",
    "        de contorno para T(L) = T_L fixa na extremidade\n",
    "\n",
    "        d = densidade\n",
    "        c = calor específico\n",
    "        k = condutividade térmica\n",
    "        h = coeficiente de convecção\n",
    "        T_amb = temperatura do fluido\n",
    "        T_b = temperatura da base\n",
    "        r = raio\n",
    "        L = comprimento\n",
    "        dx = pedaço de comprimento\n",
    "        t_total = tempo total da simulação\n",
    "    \"\"\"\n",
    "    # Área transversal\n",
    "    A_tr = pi * (r**2)\n",
    "\n",
    "    # Perímetro\n",
    "    P = 2 * pi * r\n",
    "\n",
    "    m            = sqrt((h*P) / (k*A_tr))\n",
    "    temps        = []\n",
    "    lista_x      = np.arange(0, L+dx, dx)\n",
    "    theta_l      = T_L - T_amb\n",
    "    theta_b      = T_b - T_amb\n",
    "\n",
    "    for x in lista_x:\n",
    "        numerador   = (theta_l/theta_b)*sinh(m*x) + sinh(m*(L - x))\n",
    "        denominador = sinh(m*L)\n",
    "        temperatura = T_amb + (numerador/denominador)*(T_b - T_amb)\n",
    "        temps.append(temperatura)\n",
    "\n",
    "    temps_em_c = [T - 273 for T in temps]\n",
    "    plt.figure(figsize=(15, 4))\n",
    "\n",
    "    plt.subplot(122)\n",
    "    plt.plot(lista_x * 10, temps_em_c, 'purple')\n",
    "    plt.title(\"Distribuição de temperatura - Caso analítico\")\n",
    "    plt.xlabel(\"Comprimento (cm)\")\n",
    "    plt.ylabel(\"Temperatura (°C)\")\n",
    "    plt.grid()"
   ]
  },
  {
   "cell_type": "markdown",
   "id": "33b7041f",
   "metadata": {},
   "source": [
    "### Gráficos dos resultados numérico e analítico"
   ]
  },
  {
   "cell_type": "code",
   "execution_count": 6,
   "id": "22614f1e",
   "metadata": {},
   "outputs": [
    {
     "name": "stdout",
     "output_type": "stream",
     "text": [
      "Valor obtido: 2.4683617528362133e-11 < 1e-10\n"
     ]
    },
    {
     "data": {
      "text/plain": [
       "<Figure size 1080x288 with 0 Axes>"
      ]
     },
     "metadata": {},
     "output_type": "display_data"
    },
    {
     "data": {
      "image/png": "[encoded data removed]",
      "text/plain": [
       "<Figure size 1080x288 with 2 Axes>"
      ]
     },
     "metadata": {
      "needs_background": "light"
     },
     "output_type": "display_data"
    }
   ],
   "source": [
    "# Gera figura\n",
    "plt.figure(figsize=(15, 4))\n",
    "\n",
    "# Plota resultados\n",
    "analitic_solution(dens, c, k, h, T_amb, T_b, r, L, dx, t_total)\n",
    "numeric_solution(dens, c, k, h, T_amb, T_b, r, L, dx, t_total)\n",
    "\n",
    "plt.show()"
   ]
  }
 ],
 "metadata": {
  "kernelspec": {
   "display_name": "Python 3",
   "language": "python",
   "name": "python3"
  },
  "language_info": {
   "codemirror_mode": {
    "name": "ipython",
    "version": 3
   },
   "file_extension": ".py",
   "mimetype": "text/x-python",
   "name": "python",
   "nbconvert_exporter": "python",
   "pygments_lexer": "ipython3",
   "version": "3.8.8"
  }
 },
 "nbformat": 4,
 "nbformat_minor": 5
}
